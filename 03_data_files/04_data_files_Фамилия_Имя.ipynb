{
 "cells": [
  {
   "cell_type": "markdown",
   "metadata": {},
   "source": [
    "# Форматы данных (1)"
   ]
  },
  {
   "cell_type": "markdown",
   "metadata": {},
   "source": [
    "Материалы:\n",
    "* Макрушин С.В. \"Лекция 4: Форматы данных\"\n",
    "* https://docs.python.org/3/library/json.html\n",
    "* https://docs.python.org/3/library/pickle.html\n",
    "* https://www.crummy.com/software/BeautifulSoup/bs4/doc.ru/bs4ru.html\n",
    "* Уэс Маккини. Python и анализ данных"
   ]
  },
  {
   "cell_type": "markdown",
   "metadata": {},
   "source": [
    "## Задачи для совместного разбора"
   ]
  },
  {
   "cell_type": "markdown",
   "metadata": {},
   "source": [
    "1. Вывести все адреса электронной почты, содержащиеся в адресной книге `addres-book.json`"
   ]
  },
  {
   "cell_type": "markdown",
   "metadata": {},
   "source": [
    "2. Вывести телефоны, содержащиеся в адресной книге `addres-book.json`"
   ]
  },
  {
   "cell_type": "markdown",
   "metadata": {},
   "source": [
    "3. По данным из файла `addres-book-q.xml` сформировать список словарей с телефонами каждого из людей. "
   ]
  },
  {
   "cell_type": "markdown",
   "metadata": {},
   "source": [
    "## Лабораторная работа №4"
   ]
  },
  {
   "cell_type": "markdown",
   "metadata": {},
   "source": [
    "### JSON"
   ]
  },
  {
   "cell_type": "markdown",
   "metadata": {},
   "source": [
    "1.1 Считайте файл `contributors_sample.json`. Воспользовавшись модулем `json`, преобразуйте содержимое файла в соответствующие объекты python. Выведите на экран информацию о первых 3 пользователях."
   ]
  },
  {
   "cell_type": "code",
   "execution_count": 2,
   "metadata": {},
   "outputs": [
    {
     "name": "stdout",
     "output_type": "stream",
     "text": [
      "{'username': 'uhebert', 'name': 'Lindsey Nguyen', 'sex': 'F', 'address': '01261 Cameron Spring\\nTaylorfurt, AK 97791', 'mail': 'jsalazar@gmail.com', 'jobs': ['Energy engineer', 'Engineer, site', 'Environmental health practitioner', 'Biomedical scientist', 'Jewellery designer'], 'id': 35193}\n",
      "{'username': 'vickitaylor', 'name': 'Cheryl Lewis', 'sex': 'F', 'address': '66992 Welch Brooks\\nMarshallshire, ID 56004', 'mail': 'bhudson@gmail.com', 'jobs': ['Music therapist', 'Volunteer coordinator', 'Designer, interior/spatial'], 'id': 91970}\n",
      "{'username': 'sheilaadams', 'name': 'Julia Allen', 'sex': 'F', 'address': 'Unit 1632 Box 2971\\nDPO AE 23297', 'mail': 'darren44@yahoo.com', 'jobs': ['Management consultant', 'Engineer, structural', 'Lecturer, higher education', 'Theatre manager', 'Designer, textile'], 'id': 1848091}\n"
     ]
    }
   ],
   "source": [
    "import json\n",
    "\n",
    "with open('data/contributors_sample.json') as f:\n",
    "    contributors = json.load(f)\n",
    "\n",
    "for i in range(3):\n",
    "    print(contributors[i])\n"
   ]
  },
  {
   "cell_type": "markdown",
   "metadata": {},
   "source": [
    "1.2 Выведите уникальные почтовые домены, содержащиеся в почтовых адресах людей"
   ]
  },
  {
   "cell_type": "code",
   "execution_count": 4,
   "metadata": {},
   "outputs": [
    {
     "name": "stdout",
     "output_type": "stream",
     "text": [
      "{'yahoo.com', 'hotmail.com', 'gmail.com'}\n"
     ]
    }
   ],
   "source": [
    "emails = set()\n",
    "for contributor in contributors:\n",
    "    emails.add(contributor['mail'].split('@')[1])\n",
    "print(emails)"
   ]
  },
  {
   "cell_type": "markdown",
   "metadata": {},
   "source": [
    "1.3 Напишите функцию, которая по `username` ищет человека и выводит информацию о нем. Если пользователь с заданным `username` отсутствует, возбудите исключение `ValueError`"
   ]
  },
  {
   "cell_type": "code",
   "execution_count": 5,
   "metadata": {},
   "outputs": [
    {
     "name": "stdout",
     "output_type": "stream",
     "text": [
      "User not found\n"
     ]
    }
   ],
   "source": [
    "def find_contributor_by_username(username):\n",
    "    for contributor in contributors:\n",
    "        if contributor['username'] == username:\n",
    "            return contributor\n",
    "    raise ValueError('User not found')\n",
    "\n",
    "username = 'jane_doe'\n",
    "try:\n",
    "    contributor = find_contributor_by_username(username)\n",
    "    print(contributor)\n",
    "except ValueError as e:\n",
    "    print(e)"
   ]
  },
  {
   "cell_type": "markdown",
   "metadata": {},
   "source": [
    "1.4 Посчитайте, сколько мужчин и женщин присутсвует в этом наборе данных."
   ]
  },
  {
   "cell_type": "code",
   "execution_count": 7,
   "metadata": {},
   "outputs": [
    {
     "name": "stdout",
     "output_type": "stream",
     "text": [
      "Male count: 2064\n",
      "Female count: 2136\n"
     ]
    }
   ],
   "source": [
    "male_count = 0\n",
    "female_count = 0\n",
    "for contributor in contributors:\n",
    "    if contributor['sex'] == 'M':\n",
    "        male_count += 1\n",
    "    elif contributor['sex'] == 'F':\n",
    "        female_count += 1\n",
    "print(f\"Male count: {male_count}\")\n",
    "print(f\"Female count: {female_count}\")"
   ]
  },
  {
   "cell_type": "markdown",
   "metadata": {},
   "source": [
    "1.5 Создайте `pd.DataFrame` `contributors`, имеющий столбцы `id`, `username` и `sex`."
   ]
  },
  {
   "cell_type": "code",
   "execution_count": 8,
   "metadata": {},
   "outputs": [
    {
     "name": "stdout",
     "output_type": "stream",
     "text": [
      "           id       username sex\n",
      "0       35193        uhebert   F\n",
      "1       91970    vickitaylor   F\n",
      "2     1848091    sheilaadams   F\n",
      "3       50969       nicole82   F\n",
      "4      676820         jean67   M\n",
      "...       ...            ...  ..\n",
      "4195   423555  stevenspencer   F\n",
      "4196    35251      rwilliams   M\n",
      "4197   135887      lmartinez   F\n",
      "4198   212714     brendahill   M\n",
      "4199   344321       mistyray   F\n",
      "\n",
      "[4200 rows x 3 columns]\n"
     ]
    }
   ],
   "source": [
    "import pandas as pd\n",
    "\n",
    "contributors_dict = {'id': [], 'username': [], 'sex': []}\n",
    "for contributor in contributors:\n",
    "    contributors_dict['id'].append(contributor['id'])\n",
    "    contributors_dict['username'].append(contributor['username'])\n",
    "    contributors_dict['sex'].append(contributor['sex'])\n",
    "contributors_df = pd.DataFrame(contributors_dict)\n",
    "print(contributors_df)\n"
   ]
  },
  {
   "cell_type": "markdown",
   "metadata": {},
   "source": [
    "1.6 Загрузите данные из файла `recipes_sample.csv` (__ЛР2__) в таблицу `recipes`. Объедините `recipes` с таблицей `contributors` с сохранением строк в том случае, если информация о человеке отсутствует в JSON-файле. Для скольких человек информация отсутствует? "
   ]
  },
  {
   "cell_type": "code",
   "execution_count": 9,
   "metadata": {},
   "outputs": [
    {
     "name": "stdout",
     "output_type": "stream",
     "text": [
      "Number of missing contributors: 29830\n"
     ]
    }
   ],
   "source": [
    "recipes = pd.read_csv('data/recipes_sample.csv')\n",
    "merged_df = pd.merge(recipes, contributors_df, on='id', how='left')\n",
    "print(f\"Number of missing contributors: {merged_df['username'].isnull().sum()}\")"
   ]
  },
  {
   "cell_type": "markdown",
   "metadata": {},
   "source": [
    "### pickle"
   ]
  },
  {
   "cell_type": "markdown",
   "metadata": {},
   "source": [
    "2.1 На основе файла `contributors_sample.json` создайте словарь следующего вида: \n",
    "```\n",
    "{\n",
    "    должность: [список username людей, занимавших эту должность]\n",
    "}\n",
    "```"
   ]
  },
  {
   "cell_type": "code",
   "execution_count": 17,
   "metadata": {},
   "outputs": [],
   "source": [
    "import json\n",
    "\n",
    "with open('data/contributors_sample.json', 'r') as f:\n",
    "    contributors = json.load(f)\n",
    "\n",
    "job_people = {}\n",
    "\n",
    "for contributor in contributors:\n",
    "    for job in contributor['jobs']:\n",
    "        if job not in job_people:\n",
    "            job_people[job] = [contributor['username']]\n",
    "        else:\n",
    "            job_people[job].append(contributor['username'])\n"
   ]
  },
  {
   "cell_type": "markdown",
   "metadata": {},
   "source": [
    "2.2 Сохраните результаты в файл `job_people.pickle` и в файл `job_people.json` с использованием форматов pickle и JSON соответственно. Сравните объемы получившихся файлов. При сохранении в JSON укажите аргумент `indent`."
   ]
  },
  {
   "cell_type": "code",
   "execution_count": 18,
   "metadata": {},
   "outputs": [],
   "source": [
    "import json\n",
    "import pickle\n",
    "\n",
    "# Сохранение в файл job_people.pickle\n",
    "with open('job_people.pickle', 'wb') as f:\n",
    "    pickle.dump(job_people, f)\n",
    "\n",
    "# Сохранение в файл job_people.json с использованием формата JSON\n",
    "with open('job_people.json', 'w') as f:\n",
    "    json.dump(job_people, f, indent=4)\n"
   ]
  },
  {
   "cell_type": "markdown",
   "metadata": {},
   "source": [
    "2.3 Считайте файл `job_people.pickle` и продемонстрируйте, что данные считались корректно. "
   ]
  },
  {
   "cell_type": "code",
   "execution_count": 19,
   "metadata": {},
   "outputs": [
    {
     "name": "stdout",
     "output_type": "stream",
     "text": [
      "True\n"
     ]
    }
   ],
   "source": [
    "import pickle\n",
    "\n",
    "# Чтение данных из файла job_people.pickle\n",
    "with open('job_people.pickle', 'rb') as f:\n",
    "    job_people_pickle = pickle.load(f)\n",
    "\n",
    "# Проверка, что данные считались корректно\n",
    "print(job_people_pickle == job_people)\n"
   ]
  },
  {
   "cell_type": "markdown",
   "metadata": {},
   "source": [
    "### XML"
   ]
  },
  {
   "cell_type": "markdown",
   "metadata": {},
   "source": [
    "3.1 По данным файла `steps_sample.xml` сформируйте словарь с шагами по каждому рецепту вида `{id_рецепта: [\"шаг1\", \"шаг2\"]}`. Сохраните этот словарь в файл `steps_sample.json`"
   ]
  },
  {
   "cell_type": "code",
   "execution_count": 30,
   "metadata": {},
   "outputs": [],
   "source": [
    "import xml.etree.ElementTree as ET\n",
    "import json\n",
    "\n",
    "# Парсинг XML-файла\n",
    "tree = ET.parse('data/steps_sample.xml')\n",
    "root = tree.getroot()\n",
    "\n",
    "steps_dict = {}\n",
    "\n",
    "# Проход по всем элементам рецептов и сохранение шагов в словарь\n",
    "for recipe in root.iter('recipe'):\n",
    "    recipe_id = recipe.get('id')\n",
    "    steps = [step.text for step in recipe.findall('./recipemethod/step')]\n",
    "    steps_dict[recipe_id] = steps\n",
    "\n",
    "# Сохранение словаря в файл JSON\n",
    "with open('steps_sample.json', 'w') as f:\n",
    "    json.dump(steps_dict, f)\n"
   ]
  },
  {
   "cell_type": "markdown",
   "metadata": {},
   "source": [
    "3.2 По данным файла `steps_sample.xml` сформируйте словарь следующего вида: `кол-во_шагов_в_рецепте: [список_id_рецептов]`"
   ]
  },
  {
   "cell_type": "code",
   "execution_count": 31,
   "metadata": {},
   "outputs": [],
   "source": [
    "steps_count_dict = {}\n",
    "\n",
    "# Проход по всем элементам рецептов и сохранение количества шагов в словарь\n",
    "for recipe in root.iter('recipe'):\n",
    "    recipe_id = recipe.get('id')\n",
    "    steps_count = len(recipe.findall('./recipemethod/step'))\n",
    "    if steps_count in steps_count_dict:\n",
    "        steps_count_dict[steps_count].append(recipe_id)\n",
    "    else:\n",
    "        steps_count_dict[steps_count] = [recipe_id]\n",
    "\n",
    "# Сохранение словаря в файл JSON\n",
    "with open('steps_count_sample.json', 'w') as f:\n",
    "    json.dump(steps_count_dict, f)\n"
   ]
  },
  {
   "cell_type": "markdown",
   "metadata": {},
   "source": [
    "3.3 Получите список рецептов, в этапах выполнения которых есть информация о времени (часы или минуты). Для отбора подходящих рецептов обратите внимание на атрибуты соответствующих тэгов."
   ]
  },
  {
   "cell_type": "code",
   "execution_count": 32,
   "metadata": {},
   "outputs": [],
   "source": [
    "recipes_with_time = []\n",
    "\n",
    "for recipe in root.iter('recipe'):\n",
    "    for step in recipe.iter('step'):\n",
    "        time = step.get('time')\n",
    "        if time and ('h' in time or 'min' in time):\n",
    "            recipes_with_time.append(recipe.get('id'))\n",
    "            break\n"
   ]
  },
  {
   "cell_type": "markdown",
   "metadata": {},
   "source": [
    "3.4 Загрузите данные из файла `recipes_sample.csv` (__ЛР2__) в таблицу `recipes`. Для строк, которые содержат пропуски в столбце `n_steps`, заполните этот столбец на основе файла  `steps_sample.xml`. Строки, в которых столбец `n_steps` заполнен, оставьте без изменений."
   ]
  },
  {
   "cell_type": "code",
   "execution_count": 33,
   "metadata": {},
   "outputs": [],
   "source": [
    "import pandas as pd\n",
    "\n",
    "# Загрузка данных из файла CSV\n",
    "recipes_df = pd.read_csv('data/recipes_sample.csv')\n",
    "\n",
    "# Функция для получения количества шагов в рецепте по его ID\n",
    "def get_steps_count(recipe_id):\n",
    "    try:\n",
    "        return len(steps_dict[str(recipe_id)])\n",
    "    except KeyError:\n",
    "        return pd.NA\n",
    "\n",
    "# Заполнение пропущенных значений в столбце n_steps\n",
    "steps_dict = json.load(open('steps_sample.json', 'r'))\n",
    "\n",
    "recipes_df['n_steps'] = recipes_df.apply(lambda row: get_steps_count(row['id']) if pd.isna(row['n_steps']) else row['n_steps'], axis=1)\n"
   ]
  },
  {
   "cell_type": "markdown",
   "metadata": {},
   "source": [
    "3.5 Проверьте, содержит ли столбец `n_steps` пропуски. Если нет, то преобразуйте его к целочисленному типу и сохраните результаты в файл `recipes_sample_with_filled_nsteps.csv`"
   ]
  },
  {
   "cell_type": "code",
   "execution_count": 35,
   "metadata": {},
   "outputs": [
    {
     "name": "stdout",
     "output_type": "stream",
     "text": [
      "Столбец n_steps содержит пропущенные значения\n"
     ]
    }
   ],
   "source": [
    "# Проверка наличия пропущенных значений в столбце n_steps\n",
    "if recipes_df['n_steps'].isna().sum() == 0:\n",
    "    # Преобразование столбца n_steps к целочисленному типу\n",
    "    recipes_df['n_steps'] = recipes_df['n_steps'].astype(int)\n",
    "    # Сохранение результатов в файл CSV\n",
    "    recipes_df.to_csv('recipes_sample_with_filled_nsteps.csv', index=False)\n",
    "else:\n",
    "    print('Столбец n_steps содержит пропущенные значения')\n"
   ]
  },
  {
   "cell_type": "code",
   "execution_count": null,
   "metadata": {},
   "outputs": [],
   "source": []
  }
 ],
 "metadata": {
  "kernelspec": {
   "display_name": "Python 3 (ipykernel)",
   "language": "python",
   "name": "python3"
  },
  "language_info": {
   "codemirror_mode": {
    "name": "ipython",
    "version": 3
   },
   "file_extension": ".py",
   "mimetype": "text/x-python",
   "name": "python",
   "nbconvert_exporter": "python",
   "pygments_lexer": "ipython3",
   "version": "3.9.12"
  }
 },
 "nbformat": 4,
 "nbformat_minor": 4
}
